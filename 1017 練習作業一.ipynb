{
 "cells": [
  {
   "cell_type": "code",
   "execution_count": 6,
   "id": "b1f36279",
   "metadata": {},
   "outputs": [
    {
     "name": "stdout",
     "output_type": "stream",
     "text": [
      "請輸入您的電子郵件: 41026007L@gapps.ntnu.edu.tw\n",
      "您提供的電子郵件是有效的。\n"
     ]
    }
   ],
   "source": [
    "import re\n",
    "\n",
    "def is_valid_email(email):\n",
    "    pattern = r'^[a-zA-Z0-9._%+-]+@[a-zA-Z0-9.-]+\\.[a-zA-Z]{2,}$'\n",
    "    \n",
    "    if re.match(pattern, email):\n",
    "        return True\n",
    "    else:\n",
    "        return False\n",
    "\n",
    "user_email = input(\"請輸入您的電子郵件: \")\n",
    "\n",
    "if is_valid_email(user_email):\n",
    "    print(\"您提供的電子郵件是有效的。\")\n",
    "else:\n",
    "    print(\"您提供的電子郵件不是有效的電子郵件。\")\n"
   ]
  }
 ],
 "metadata": {
  "kernelspec": {
   "display_name": "Python 3 (ipykernel)",
   "language": "python",
   "name": "python3"
  },
  "language_info": {
   "codemirror_mode": {
    "name": "ipython",
    "version": 3
   },
   "file_extension": ".py",
   "mimetype": "text/x-python",
   "name": "python",
   "nbconvert_exporter": "python",
   "pygments_lexer": "ipython3",
   "version": "3.11.5"
  }
 },
 "nbformat": 4,
 "nbformat_minor": 5
}
